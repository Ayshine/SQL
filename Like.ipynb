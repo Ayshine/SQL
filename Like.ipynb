{
 "cells": [
  {
   "cell_type": "code",
   "execution_count": 1,
   "metadata": {},
   "outputs": [],
   "source": [
    "%load_ext sql"
   ]
  },
  {
   "cell_type": "code",
   "execution_count": 2,
   "metadata": {},
   "outputs": [
    {
     "data": {
      "text/plain": [
       "'Connected: @None'"
      ]
     },
     "execution_count": 2,
     "metadata": {},
     "output_type": "execute_result"
    }
   ],
   "source": [
    "%sql sqlite://"
   ]
  },
  {
   "cell_type": "code",
   "execution_count": 3,
   "metadata": {},
   "outputs": [
    {
     "name": "stdout",
     "output_type": "stream",
     "text": [
      " * sqlite://\n",
      "Done.\n",
      "1 rows affected.\n",
      "1 rows affected.\n",
      "1 rows affected.\n",
      "1 rows affected.\n",
      "1 rows affected.\n"
     ]
    },
    {
     "data": {
      "text/plain": [
       "[]"
      ]
     },
     "execution_count": 3,
     "metadata": {},
     "output_type": "execute_result"
    }
   ],
   "source": [
    "%%sql \n",
    "CREATE TABLE CUSTOMERS(CustomerID integer, CustomerName varchar(50),\n",
    "                       ContactName varchar(50), Address varchar(50),\n",
    "                       City varchar(50), PostalCode varchar(10), \n",
    "                       Country varchar(50));\n",
    "\n",
    "INSERT INTO CUSTOMERS VALUES(1, 'Alfreds Futterkiste','Maria Anders',\n",
    "                             'Obere Str. 57','Berlin',12209,'Germany');\n",
    "INSERT INTO CUSTOMERS VALUES(2,'Ana Trujillo Emparedados y helados','Ana Trujillo',\n",
    "                             'Avda. de la Constitución 2222','México D.F.',05021,'Mexico');\n",
    "INSERT INTO CUSTOMERS VALUES(3,'Antonio Moreno Taquería','Antonio Moreno',\n",
    "                             'Mataderos 2312','México D.F.',05023,'Mexico');\n",
    "INSERT INTO CUSTOMERS VALUES(4,'Around the Horn','Thomas Hardy','120 Hanover Sq.',\n",
    "                             'London','W A1 1DP','UK');\n",
    "INSERT INTO CUSTOMERS VALUES(5,'Berglunds snabbköp','Christina Berglund','Berguvsvägen 8',\n",
    "                             'Luleå','S-958 22','Sweden');"
   ]
  },
  {
   "cell_type": "code",
   "execution_count": 4,
   "metadata": {},
   "outputs": [
    {
     "name": "stdout",
     "output_type": "stream",
     "text": [
      " * sqlite://\n",
      "Done.\n"
     ]
    },
    {
     "data": {
      "text/html": [
       "<table>\n",
       "    <tr>\n",
       "        <th>CustomerID</th>\n",
       "        <th>CustomerName</th>\n",
       "        <th>ContactName</th>\n",
       "        <th>Address</th>\n",
       "        <th>City</th>\n",
       "        <th>PostalCode</th>\n",
       "        <th>Country</th>\n",
       "    </tr>\n",
       "    <tr>\n",
       "        <td>1</td>\n",
       "        <td>Alfreds Futterkiste</td>\n",
       "        <td>Maria Anders</td>\n",
       "        <td>Obere Str. 57</td>\n",
       "        <td>Berlin</td>\n",
       "        <td>12209</td>\n",
       "        <td>Germany</td>\n",
       "    </tr>\n",
       "    <tr>\n",
       "        <td>2</td>\n",
       "        <td>Ana Trujillo Emparedados y helados</td>\n",
       "        <td>Ana Trujillo</td>\n",
       "        <td>Avda. de la Constitución 2222</td>\n",
       "        <td>México D.F.</td>\n",
       "        <td>5021</td>\n",
       "        <td>Mexico</td>\n",
       "    </tr>\n",
       "    <tr>\n",
       "        <td>3</td>\n",
       "        <td>Antonio Moreno Taquería</td>\n",
       "        <td>Antonio Moreno</td>\n",
       "        <td>Mataderos 2312</td>\n",
       "        <td>México D.F.</td>\n",
       "        <td>5023</td>\n",
       "        <td>Mexico</td>\n",
       "    </tr>\n",
       "    <tr>\n",
       "        <td>4</td>\n",
       "        <td>Around the Horn</td>\n",
       "        <td>Thomas Hardy</td>\n",
       "        <td>120 Hanover Sq.</td>\n",
       "        <td>London</td>\n",
       "        <td>W A1 1DP</td>\n",
       "        <td>UK</td>\n",
       "    </tr>\n",
       "    <tr>\n",
       "        <td>5</td>\n",
       "        <td>Berglunds snabbköp</td>\n",
       "        <td>Christina Berglund</td>\n",
       "        <td>Berguvsvägen 8</td>\n",
       "        <td>Luleå</td>\n",
       "        <td>S-958 22</td>\n",
       "        <td>Sweden</td>\n",
       "    </tr>\n",
       "</table>"
      ],
      "text/plain": [
       "[(1, 'Alfreds Futterkiste', 'Maria Anders', 'Obere Str. 57', 'Berlin', '12209', 'Germany'),\n",
       " (2, 'Ana Trujillo Emparedados y helados', 'Ana Trujillo', 'Avda. de la Constitución 2222', 'México D.F.', '5021', 'Mexico'),\n",
       " (3, 'Antonio Moreno Taquería', 'Antonio Moreno', 'Mataderos 2312', 'México D.F.', '5023', 'Mexico'),\n",
       " (4, 'Around the Horn', 'Thomas Hardy', '120 Hanover Sq.', 'London', 'W A1 1DP', 'UK'),\n",
       " (5, 'Berglunds snabbköp', 'Christina Berglund', 'Berguvsvägen 8', 'Luleå', 'S-958 22', 'Sweden')]"
      ]
     },
     "execution_count": 4,
     "metadata": {},
     "output_type": "execute_result"
    }
   ],
   "source": [
    "%sql SELECT * from CUSTOMERS;"
   ]
  },
  {
   "cell_type": "code",
   "execution_count": null,
   "metadata": {},
   "outputs": [],
   "source": [
    "%load_ext sql"
   ]
  },
  {
   "cell_type": "markdown",
   "metadata": {},
   "source": [
    "### SQL Like Operator\n",
    "\n",
    "~~~sql\n",
    "SELECT column1, column2, ...\n",
    "FROM table_name\n",
    "WHERE columnN LIKE pattern;\n",
    "~~~"
   ]
  },
  {
   "cell_type": "markdown",
   "metadata": {},
   "source": [
    "#### SQL Joker Karakterler\n",
    "\n",
    "A wildcard character is used to substitute any other character(s) in a string.\n",
    "Wildcard characters are used with the SQL LIKE operator. The LIKE operator is used in a WHERE clause to search for a specified pattern in a column. \n",
    "There are two wildcards used in conjunction with the LIKE operator:\n",
    "% - The percent sign represents zero, one, or multiple characters\n",
    "_ - The underscore represents a single character\n",
    "Note: MS Access uses a question mark (?) instead of the underscore (_).\n",
    "In MS Access and SQL Server you can also use:\n",
    "[charlist] - Defines sets and ranges of characters to match\n",
    "[^charlist] or [!charlist] - Defines sets and ranges of characters NOT to match\n",
    "The wildcards can also be used in combinations!\n",
    "Here are some examples showing different LIKE operators with '%' and '_' wildcards:\n",
    "\n",
    "|LIKE Operator|Description|\n",
    "|--------------|----------|\n",
    "|WHERE CustomerName LIKE 'a%'|Finds any values that start with \"a\"|\n",
    "|WHERE CustomerName LIKE '%a'|Finds any values that end with \"a\"|\n",
    "|WHERE CustomerName LIKE '%or%'|Finds any values that have \"or\" in any position|\n",
    "|WHERE CustomerName LIKE '_r%'|Finds any values that have \"r\" in the second position|\n",
    "|WHERE CustomerName LIKE 'a_%_%'|Finds any values that start with \"a\" and are at least 3 characters in length|\n",
    "|WHERE ContactName LIKE 'a%o'|Finds any values that start with \"a\" and ends with \"o\"|\n",
    "\n",
    "\n"
   ]
  },
  {
   "cell_type": "code",
   "execution_count": null,
   "metadata": {},
   "outputs": [],
   "source": []
  }
 ],
 "metadata": {
  "kernelspec": {
   "display_name": "Python [default]",
   "language": "python",
   "name": "python3"
  },
  "language_info": {
   "codemirror_mode": {
    "name": "ipython",
    "version": 3
   },
   "file_extension": ".py",
   "mimetype": "text/x-python",
   "name": "python",
   "nbconvert_exporter": "python",
   "pygments_lexer": "ipython3",
   "version": "3.6.5"
  }
 },
 "nbformat": 4,
 "nbformat_minor": 2
}
