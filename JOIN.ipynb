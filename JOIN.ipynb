{
 "cells": [
  {
   "cell_type": "markdown",
   "metadata": {},
   "source": [
    "# SQL JOIN\n",
    "JOIN anahtar kelimesi iki ve daha fazla tablodan kayitlari iliskili bir kolon uzerinden biraraya getirmeye yarar. Asagidaki Orders tablosunu gozonune alalim:\n",
    "\n",
    "|OrderID|CustomerID|OrderDate|\n",
    "|-------|----------|---------|\n",
    "|10308|2|1996-09-18|\n",
    "|10309|37|1996-09-19|\n",
    "|10310|77|1996-09-20|\n",
    "\n",
    "ve \"Customers\" tablosuna bakalim:\n",
    "\n",
    "|CustomerID|CustomerName|ContactName|Country|\n",
    "|-------|----------|---------|\n",
    "|1|Alfreds Futterkiste|Maria Anders|Germany|\n",
    "|2|Ana Trujillo Emparedados y helados|Ana Trujillo|Mexico|\n",
    "|3|Antonio Moreno Taquería|Antonio Moreno|Mexico|\n",
    "\n",
    "\"Orders\" tablosundaki \"CustomerID\" kolonu \"Customers\" tablosundaki \"CustomerID\" kolonuna referanse etmektedir.Bu durumda asagidaki INNER JOIN iceren SQL cumlesini yazabiliriz. Bu SQL cumlesi iki tablodan da eslesen kayitlari getirecektir."
   ]
  },
  {
   "cell_type": "markdown",
   "metadata": {},
   "source": [
    "~~~sql\n",
    "SELECT Orders.OrderID, Customers.CustomerName, Orders.OrderDate\n",
    "FROM Orders\n",
    "INNER JOIN Customers ON Orders.CustomerID=Customers.CustomerID;\n",
    "~~~"
   ]
  },
  {
   "cell_type": "markdown",
   "metadata": {},
   "source": [
    "ve asagidaki gibi bir sonuc donecektir\n",
    "\n",
    "|OrderID|CustomerID|OrderDate|\n",
    "|-------|----------|---------\n",
    "|10308|Ana Trujillo Emparedados y helados|9/18/1996|\n",
    "|10365|Antonio Moreno Taquería|11/27/1996|\n",
    "|10383|Around the Horn|12/16/1996|\n",
    "|10355|Around the Horn|11/15/1996|\n",
    "|10278|Berglunds snabbköp|8/12/1996|"
   ]
  },
  {
   "cell_type": "code",
   "execution_count": null,
   "metadata": {},
   "outputs": [],
   "source": [
    "####"
   ]
  },
  {
   "cell_type": "markdown",
   "metadata": {},
   "source": [
    "\n",
    "### Different Types of SQL JOINs\n",
    "\n",
    "SQL'deki Farkli tip JOINler:\n",
    "\n",
    "- **(INNER) JOIN:** Iki tablodan da sartlari saglayan kayitlari dondurur.\n",
    "- **LEFT (OUTER) JOIN:** Sol tablodaki tum kayitlari dondururken sag tablodaki eslesen kayitlari dondurur.\n",
    "- **RIGHT (OUTER) JOIN:** Sag tablodaki tum kayitlari dondururken sol tablodaki eslesen kayitlari dondurur.\n",
    "- **FULL (OUTER) JOIN:** Eslessin eslesmesin tum kayitlari dondurur.\n",
    "      \n",
    "  ![Alt text](img/join_types.png)\n"
   ]
  },
  {
   "cell_type": "code",
   "execution_count": null,
   "metadata": {},
   "outputs": [],
   "source": [
    "####"
   ]
  },
  {
   "cell_type": "markdown",
   "metadata": {},
   "source": [
    "### SQL INNER JOIN Anahtar Kelimesi\n",
    "The INNER JOIN anahtar kelimesi iki tablodan da eslesen kayitlari getirir.\n",
    "\n",
    "INNER JOIN Syntax"
   ]
  },
  {
   "cell_type": "markdown",
   "metadata": {},
   "source": [
    "~~~sql\n",
    "SELECT column_name(s)\n",
    "FROM table1\n",
    "INNER JOIN table2 ON table1.column_name = table2.column_name;\n",
    "~~~\n",
    "  ![Alt text](img/inner_join.png)"
   ]
  },
  {
   "cell_type": "code",
   "execution_count": 1,
   "metadata": {},
   "outputs": [],
   "source": [
    "####"
   ]
  },
  {
   "cell_type": "markdown",
   "metadata": {},
   "source": [
    "### SQL INNER JOIN Ornek\n",
    "The following SQL statement selects all orders with customer information:\n",
    "Example\n",
    "~~~sql\n",
    "SELECT Orders.OrderID, Customers.CustomerName\n",
    "FROM Orders\n",
    "INNER JOIN Customers ON Orders.CustomerID = Customers.CustomerID;\n",
    "~~~\n",
    "**Note:** The INNER JOIN keyword selects all rows from both tables as long as there is a match between the columns. If there are records in the \"Orders\" table that do not have matches in \"Customers\", these orders will not be shown!\n"
   ]
  },
  {
   "cell_type": "markdown",
   "metadata": {},
   "source": [
    "### JOIN Three Tables\n",
    "TAsagidaki SQL ornegi tum ORDERS kayitlarini customer ve shipper bilgisi ile listeler: \n",
    "\n",
    "~~~sql\n",
    "SELECT Orders.OrderID, Customers.CustomerName, Shippers.ShipperName\n",
    "FROM ((Orders\n",
    "INNER JOIN Customers ON Orders.CustomerID = Customers.CustomerID)\n",
    "INNER JOIN Shippers ON Orders.ShipperID = Shippers.ShipperID);\n",
    "~~~"
   ]
  },
  {
   "cell_type": "code",
   "execution_count": null,
   "metadata": {},
   "outputs": [],
   "source": [
    "SELECT *\n",
    "FROM Orders\n",
    "ON Orders.CustomerID=Customers.CustomerID;"
   ]
  },
  {
   "cell_type": "markdown",
   "metadata": {},
   "source": [
    "### SQL LEFT JOIN Anahtar Kelimesi\n",
    "The LEFT JOIN keyword returns all records from the left table (table1), and the matched records from the right table (table2). The result is NULL from the right side, if there is no match.\n",
    "LEFT JOIN Syntax\n",
    "SELECT column_name(s)\n",
    "FROM table1\n",
    "LEFT JOIN table2 ON table1.column_name = table2.column_name;\n",
    "Note: In some databases LEFT JOIN is called LEFT OUTER JOIN.\n",
    "![Alt text](img/left_join.png)"
   ]
  },
  {
   "cell_type": "markdown",
   "metadata": {},
   "source": [
    "SQL LEFT JOIN Example\n",
    "The following SQL statement will select all customers, and any orders they might have:\n",
    "Example\n",
    "SELECT Customers.CustomerName, Orders.OrderID\n",
    "FROM Customers\n",
    "LEFT JOIN Orders ON Customers.CustomerID = Orders.CustomerID\n",
    "ORDER BY Customers.CustomerName;\n",
    "Try it Yourself »\n",
    "Note: The LEFT JOIN keyword returns all records from the left table (Customers), even if there are no matches in the right table (Orders).\n",
    "\n",
    "\n"
   ]
  },
  {
   "cell_type": "markdown",
   "metadata": {},
   "source": [
    "### SQL RIGHT JOIN Anahtar Kelimesi\n",
    "The RIGHT JOIN keyword returns all records from the right table (table2), and the matched records from the left table (table1). The result is NULL from the left side, when there is no match.\n",
    "RIGHT JOIN Syntax\n",
    "SELECT column_name(s)\n",
    "FROM table1\n",
    "RIGHT JOIN table2 ON table1.column_name = table2.column_name;\n",
    "Note: In some databases RIGHT JOIN is called RIGHT OUTER JOIN.\n",
    " \n",
    "![Alt text](img/right_join.png)"
   ]
  },
  {
   "cell_type": "markdown",
   "metadata": {},
   "source": [
    "SQL RIGHT JOIN Example\n",
    "The following SQL statement will return all employees, and any orders they might have placed:\n",
    "Example\n",
    "SELECT Orders.OrderID, Employees.LastName, Employees.FirstName\n",
    "FROM Orders\n",
    "RIGHT JOIN Employees ON Orders.EmployeeID = Employees.EmployeeID\n",
    "ORDER BY Orders.OrderID;\n",
    "Try it Yourself »\n",
    "Note: The RIGHT JOIN keyword returns all records from the right table (Employees), even if there are no matches in the left table (Orders).\n",
    "\n",
    "Test Yourself With Exercises\n",
    "Exercise:\n",
    "Choose the correct JOIN clause to select all the records from the Customers table plus all the matches in the Orders table.\n",
    "SELECT *\n",
    "FROM Orders\n",
    "\n",
    "ON Orders.CustomerID=Customers.CustomerID;\n"
   ]
  },
  {
   "cell_type": "markdown",
   "metadata": {},
   "source": [
    "### SQL FULL OUTER JOIN Anahtar Kelimesi\n",
    "The FULL OUTER JOIN keyword return all records when there is a match in either left (table1) or right (table2) table records.\n",
    "**Not:** FULL OUTER JOIN can potentially return very large result-sets!\n",
    "\n",
    "~~~sql\n",
    "FULL OUTER JOIN Syntax\n",
    "SELECT column_name(s)\n",
    "FROM table1\n",
    "FULL OUTER JOIN table2 ON table1.column_name = table2.column_name;\n",
    "~~~\n",
    "![Alt text](img/full_outer_join.png)"
   ]
  },
  {
   "cell_type": "markdown",
   "metadata": {},
   "source": [
    "### SQL FULL OUTER JOIN Ornegi\n",
    "\n",
    "Asagidaki SQL cumlesi tum CUSTOMERS, ve tum ORDERS kayitlarini listeler:\n",
    "\n",
    "~~~sql\n",
    "SELECT Customers.CustomerName, Orders.OrderID\n",
    "FROM Customers\n",
    "FULL OUTER JOIN Orders ON Customers.CustomerID=Orders.CustomerID\n",
    "ORDER BY Customers.CustomerName;\n",
    "~~~\n",
    "\n",
    "**Not:** The FULL OUTER JOIN anahtar sozcugu sol tablodaki tum kayitlari getirmekle birlikte sag tablodaki tum kayitlari da getirir. Yani sarti saglasin saglamasin tum kayitlar listelenecektir.\n"
   ]
  },
  {
   "cell_type": "markdown",
   "metadata": {},
   "source": [
    "### SQL Self JOIN\n",
    "\n",
    "Self JOIN bildigimiz join, fakat kendisi ile baglanti kuruyor.\n",
    "\n",
    "Self JOIN Syntax\n",
    "\n",
    "~~~sql\n",
    "SELECT column_name(s)\n",
    "FROM table1 T1, table1 T2\n",
    "WHERE condition;\n",
    "~~~"
   ]
  },
  {
   "cell_type": "markdown",
   "metadata": {},
   "source": [
    "\n",
    "### SQL Self JOIN Example\n",
    "\n",
    "Asagidaki SQL cumlesi ayni sehirden olan musterileri listeler: \n",
    "\n",
    "~~~sql\n",
    "SELECT A.CustomerName AS CustomerName1, B.CustomerName AS CustomerName2, A.City\n",
    "FROM Customers A, Customers B\n",
    "WHERE A.CustomerID <> B.CustomerID\n",
    "AND A.City = B.City \n",
    "ORDER BY A.City;\n",
    "~~~"
   ]
  },
  {
   "cell_type": "code",
   "execution_count": null,
   "metadata": {},
   "outputs": [],
   "source": []
  }
 ],
 "metadata": {
  "kernelspec": {
   "display_name": "Python [conda root]",
   "language": "python",
   "name": "conda-root-py"
  },
  "language_info": {
   "codemirror_mode": {
    "name": "ipython",
    "version": 3
   },
   "file_extension": ".py",
   "mimetype": "text/x-python",
   "name": "python",
   "nbconvert_exporter": "python",
   "pygments_lexer": "ipython3",
   "version": "3.6.5"
  }
 },
 "nbformat": 4,
 "nbformat_minor": 2
}
